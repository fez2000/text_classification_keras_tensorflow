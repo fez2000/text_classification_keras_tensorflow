{
 "cells": [
  {
   "cell_type": "code",
   "execution_count": 2,
   "id": "e8e26be0-12e2-49d4-92a1-8151f43955fa",
   "metadata": {},
   "outputs": [],
   "source": [
    "import tensorflow as tf\n",
    "from tensorflow import keras\n",
    "from tensorflow.keras import utils\n",
    "from tensorflow.keras import preprocessing\n",
    "from tensorflow.keras.layers.experimental.preprocessing import TextVectorization\n",
    "from sklearn.model_selection import train_test_split\n",
    "import os"
   ]
  },
  {
   "cell_type": "code",
   "execution_count": 8,
   "id": "7532eb39-0f70-4587-9031-eddd9e5f2c06",
   "metadata": {},
   "outputs": [
    {
     "name": "stdout",
     "output_type": "stream",
     "text": [
      "Found 4000 files belonging to 2 classes.\n",
      "Using 3200 files for training.\n"
     ]
    }
   ],
   "source": [
    "#chargement des donnees d'entrainement\n",
    "batch_size = 32\n",
    "seed = 42\n",
    "raw_train_ds = preprocessing.text_dataset_from_directory(\n",
    "    \"./datas/train\",\n",
    "    batch_size=100,\n",
    "    validation_split=0.2,\n",
    "    subset='training',\n",
    "    seed=seed)"
   ]
  },
  {
   "cell_type": "code",
   "execution_count": 9,
   "id": "07615c69-8036-4bef-8db6-dacb19664a91",
   "metadata": {},
   "outputs": [],
   "source": [
    "#creation de la couche de vectorisaton des donnees\n",
    "int_vectorize_layer = TextVectorization(output_mode='int')\n",
    "#recuperation des donne sans label\n",
    "train_text = raw_train_ds.map(lambda text, labels: text)\n",
    "#creation des index de chaine vers les entiers \n",
    "int_vectorize_layer.adapt(train_text)"
   ]
  }
 ],
 "metadata": {
  "kernelspec": {
   "display_name": "Python 3",
   "language": "python",
   "name": "python3"
  },
  "language_info": {
   "codemirror_mode": {
    "name": "ipython",
    "version": 3
   },
   "file_extension": ".py",
   "mimetype": "text/x-python",
   "name": "python",
   "nbconvert_exporter": "python",
   "pygments_lexer": "ipython3",
   "version": "3.8.5"
  }
 },
 "nbformat": 4,
 "nbformat_minor": 5
}
