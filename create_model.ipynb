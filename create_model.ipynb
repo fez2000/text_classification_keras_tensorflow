{
 "cells": [
  {
   "cell_type": "code",
   "execution_count": 2,
   "id": "e8e26be0-12e2-49d4-92a1-8151f43955fa",
   "metadata": {},
   "outputs": [],
   "source": [
    "import tensorflow as tf\n",
    "from tensorflow import keras\n",
    "from tensorflow.keras import utils\n",
    "from tensorflow.keras import preprocessing\n",
    "from tensorflow.keras.layers.experimental.preprocessing import TextVectorization\n",
    "from sklearn.model_selection import train_test_split\n",
    "import os"
   ]
  },
  {
   "cell_type": "code",
   "execution_count": 13,
   "id": "7532eb39-0f70-4587-9031-eddd9e5f2c06",
   "metadata": {},
   "outputs": [
    {
     "name": "stdout",
     "output_type": "stream",
     "text": [
      "Found 4000 files belonging to 2 classes.\n",
      "Using 3200 files for training.\n",
      "Found 4000 files belonging to 2 classes.\n",
      "Using 800 files for validation.\n",
      "Found 1574 files belonging to 2 classes.\n"
     ]
    }
   ],
   "source": [
    "#chargement des donnees d'entrainement, de test et de validation\n",
    "batch_size = 32\n",
    "seed = 42\n",
    "raw_train_ds = preprocessing.text_dataset_from_directory(\n",
    "    \"./datas/train\",\n",
    "    batch_size=100,\n",
    "    validation_split=0.2,\n",
    "    subset='training',\n",
    "    seed=seed)\n",
    "raw_val_ds = preprocessing.text_dataset_from_directory(\n",
    "    \"./datas/train\",\n",
    "    batch_size=batch_size,\n",
    "    validation_split=0.2,\n",
    "    subset='validation',\n",
    "    seed=seed)\n",
    "raw_test_ds = preprocessing.text_dataset_from_directory(\n",
    "    \"./datas/test\", batch_size=batch_size)"
   ]
  },
  {
   "cell_type": "code",
   "execution_count": 14,
   "id": "07615c69-8036-4bef-8db6-dacb19664a91",
   "metadata": {},
   "outputs": [],
   "source": [
    "#creation de la couche de vectorisaton des donnees\n",
    "VOCAB_SIZE = 10000\n",
    "int_vectorize_layer = TextVectorization(max_tokens=VOCAB_SIZE, output_mode='int')\n",
    "#recuperation des donne sans label\n",
    "train_text = raw_train_ds.map(lambda text, labels: text)\n",
    "#creation des index de chaine vers les entiers \n",
    "int_vectorize_layer.adapt(train_text)\n",
    "def int_vectorize_text(text, label):\n",
    "    text = tf.expand_dims(text, -1)\n",
    "    return int_vectorize_layer(text), label"
   ]
  },
  {
   "cell_type": "code",
   "execution_count": 15,
   "id": "c68a5bb6-4019-4fe8-b1f4-aeb3bb0a85de",
   "metadata": {},
   "outputs": [],
   "source": [
    "#application de la couche de vectorisation aux donnees de train, validation et de test\n",
    "int_train_ds = raw_train_ds.map(int_vectorize_text)\n",
    "int_val_ds = raw_val_ds.map(int_vectorize_text)\n",
    "int_test_ds = raw_test_ds.map(int_vectorize_text)\n"
   ]
  },
  {
   "cell_type": "code",
   "execution_count": null,
   "id": "36c03f98-4811-468c-aa03-662fd58751ff",
   "metadata": {},
   "outputs": [],
   "source": [
    "# optimisation des performances \n",
    "AUTOTUNE = tf.data.AUTOTUNE\n",
    "\n",
    "def configure_dataset(dataset):\n",
    "      return dataset.cache().prefetch(buffer_size=AUTOTUNE)"
   ]
  }
 ],
 "metadata": {
  "kernelspec": {
   "display_name": "Python 3",
   "language": "python",
   "name": "python3"
  },
  "language_info": {
   "codemirror_mode": {
    "name": "ipython",
    "version": 3
   },
   "file_extension": ".py",
   "mimetype": "text/x-python",
   "name": "python",
   "nbconvert_exporter": "python",
   "pygments_lexer": "ipython3",
   "version": "3.8.5"
  }
 },
 "nbformat": 4,
 "nbformat_minor": 5
}
