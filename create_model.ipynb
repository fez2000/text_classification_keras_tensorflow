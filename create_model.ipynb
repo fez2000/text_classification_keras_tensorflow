{
 "cells": [
  {
   "cell_type": "code",
   "execution_count": 46,
   "id": "e8e26be0-12e2-49d4-92a1-8151f43955fa",
   "metadata": {},
   "outputs": [],
   "source": [
    "import tensorflow as tf\n",
    "from tensorflow.keras import utils\n",
    "from tensorflow.keras import preprocessing\n",
    "from tensorflow.keras.layers.experimental.preprocessing import TextVectorization\n",
    "from sklearn import svm\n",
    "from tensorflow.keras import layers\n",
    "from tensorflow.keras import losses\n",
    "import os"
   ]
  },
  {
   "cell_type": "code",
   "execution_count": 13,
   "id": "7532eb39-0f70-4587-9031-eddd9e5f2c06",
   "metadata": {},
   "outputs": [
    {
     "name": "stdout",
     "output_type": "stream",
     "text": [
      "Found 4000 files belonging to 2 classes.\n",
      "Using 3200 files for training.\n",
      "Found 4000 files belonging to 2 classes.\n",
      "Using 800 files for validation.\n",
      "Found 1574 files belonging to 2 classes.\n"
     ]
    }
   ],
   "source": [
    "#chargement des donnees d'entrainement, de test et de validation\n",
    "batch_size = 32\n",
    "seed = 42\n",
    "raw_train_ds = preprocessing.text_dataset_from_directory(\n",
    "    \"./datas/train\",\n",
    "    batch_size=100,\n",
    "    validation_split=0.2,\n",
    "    subset='training',\n",
    "    seed=seed)\n",
    "raw_val_ds = preprocessing.text_dataset_from_directory(\n",
    "    \"./datas/train\",\n",
    "    batch_size=batch_size,\n",
    "    validation_split=0.2,\n",
    "    subset='validation',\n",
    "    seed=seed)\n",
    "raw_test_ds = preprocessing.text_dataset_from_directory(\n",
    "    \"./datas/test\", batch_size=batch_size)"
   ]
  },
  {
   "cell_type": "code",
   "execution_count": 37,
   "id": "07615c69-8036-4bef-8db6-dacb19664a91",
   "metadata": {},
   "outputs": [],
   "source": [
    "#creation de la couche de vectorisaton des donnees\n",
    "VOCAB_SIZE = 10000\n",
    "int_vectorize_layer = TextVectorization(max_tokens=VOCAB_SIZE, output_mode='int')\n",
    "#recuperation des donne sans label\n",
    "train_text = raw_train_ds.map(lambda text, labels: text)\n",
    "#creation des index de chaine vers les entiers \n",
    "int_vectorize_layer.adapt(train_text)\n",
    "def int_vectorize_text(text, label):\n",
    "    text = tf.expand_dims(text, -1)\n",
    "    return int_vectorize_layer(text), label"
   ]
  },
  {
   "cell_type": "code",
   "execution_count": 15,
   "id": "c68a5bb6-4019-4fe8-b1f4-aeb3bb0a85de",
   "metadata": {},
   "outputs": [],
   "source": [
    "#application de la couche de vectorisation aux donnees de train, validation et de test\n",
    "int_train_ds = raw_train_ds.map(int_vectorize_text)\n",
    "int_val_ds = raw_val_ds.map(int_vectorize_text)\n",
    "int_test_ds = raw_test_ds.map(int_vectorize_text)\n"
   ]
  },
  {
   "cell_type": "code",
   "execution_count": 18,
   "id": "36c03f98-4811-468c-aa03-662fd58751ff",
   "metadata": {},
   "outputs": [],
   "source": [
    "# optimisation des performances \n",
    "AUTOTUNE = tf.data.AUTOTUNE\n",
    "\n",
    "def configure_dataset(dataset):\n",
    "      return dataset.cache().prefetch(buffer_size=AUTOTUNE)\n",
    "int_train_ds = configure_dataset(int_train_ds)\n",
    "int_val_ds = configure_dataset(int_val_ds)\n",
    "int_test_ds = configure_dataset(int_test_ds)"
   ]
  },
  {
   "cell_type": "code",
   "execution_count": 32,
   "id": "ed6de7f6-c0be-4e60-8f69-efa9b33e09e8",
   "metadata": {},
   "outputs": [],
   "source": [
    "x_train = list()\n",
    "y_train = list()\n",
    "x_val = list()\n",
    "y_val = list()\n",
    "x_test = list()\n",
    "y_test = list()\n",
    "for i, j in int_train_ds:\n",
    "    x_train.append(i.numpy())\n",
    "    y_train.append(j.numpy())\n",
    "for i, j in int_val_ds:\n",
    "    x_val.append(i.numpy())\n",
    "    y_val.append(j.numpy())\n",
    "for i, j in int_test_ds:\n",
    "    x_test.append(i.numpy())\n",
    "    y_test.append(j.numpy())"
   ]
  },
  {
   "cell_type": "code",
   "execution_count": 42,
   "id": "aaaf9e55-cb34-4c6d-bf6a-b00ba03ce4e9",
   "metadata": {},
   "outputs": [],
   "source": [
    "def create_model(vocab_size, num_labels):\n",
    "    model = tf.keras.Sequential([\n",
    "          layers.Embedding(vocab_size, 64, mask_zero=True),\n",
    "          layers.Conv1D(64, 5, padding=\"valid\", activation=\"relu\", strides=2),\n",
    "          layers.GlobalMaxPooling1D(),\n",
    "          layers.Dense(num_labels)\n",
    "      ])\n",
    "    return model"
   ]
  },
  {
   "cell_type": "code",
   "execution_count": 48,
   "id": "81f9c55c-2b17-4023-82b6-e85b0bb11297",
   "metadata": {},
   "outputs": [
    {
     "name": "stdout",
     "output_type": "stream",
     "text": [
      "Epoch 1/5\n",
      "32/32 [==============================] - 2s 34ms/step - loss: 1.0454 - accuracy: 0.8604 - val_loss: 0.4948 - val_accuracy: 0.8562\n",
      "Epoch 2/5\n",
      "32/32 [==============================] - 1s 31ms/step - loss: 0.4162 - accuracy: 0.8678 - val_loss: 0.3487 - val_accuracy: 0.8600\n",
      "Epoch 3/5\n",
      "32/32 [==============================] - 1s 29ms/step - loss: 0.2736 - accuracy: 0.8788 - val_loss: 0.1715 - val_accuracy: 0.9563\n",
      "Epoch 4/5\n",
      "32/32 [==============================] - 1s 30ms/step - loss: 0.1117 - accuracy: 0.9713 - val_loss: 0.0891 - val_accuracy: 0.9762\n",
      "Epoch 5/5\n",
      "32/32 [==============================] - 1s 30ms/step - loss: 0.0456 - accuracy: 0.9913 - val_loss: 0.0708 - val_accuracy: 0.9825\n"
     ]
    }
   ],
   "source": [
    "int_model = create_model(vocab_size=VOCAB_SIZE + 1, num_labels=4)\n",
    "int_model.compile(\n",
    "    loss=losses.SparseCategoricalCrossentropy(from_logits=True),\n",
    "    optimizer='adam',\n",
    "    metrics=['accuracy'])\n",
    "history = int_model.fit(int_train_ds, validation_data=int_val_ds, epochs=5)"
   ]
  },
  {
   "cell_type": "code",
   "execution_count": 50,
   "id": "7c353cc5-5b6e-41ce-9c8c-caccede84297",
   "metadata": {},
   "outputs": [
    {
     "name": "stdout",
     "output_type": "stream",
     "text": [
      "Model: \"sequential_2\"\n",
      "_________________________________________________________________\n",
      "Layer (type)                 Output Shape              Param #   \n",
      "=================================================================\n",
      "embedding_2 (Embedding)      (None, None, 64)          640064    \n",
      "_________________________________________________________________\n",
      "conv1d_2 (Conv1D)            (None, None, 64)          20544     \n",
      "_________________________________________________________________\n",
      "global_max_pooling1d_2 (Glob (None, 64)                0         \n",
      "_________________________________________________________________\n",
      "dense_2 (Dense)              (None, 4)                 260       \n",
      "=================================================================\n",
      "Total params: 660,868\n",
      "Trainable params: 660,868\n",
      "Non-trainable params: 0\n",
      "_________________________________________________________________\n",
      "None\n",
      "50/50 [==============================] - 0s 3ms/step - loss: 0.0710 - accuracy: 0.9784\n"
     ]
    }
   ],
   "source": [
    "print(int_model.summary())\n",
    "int_loss, int_accuracy = int_model.evaluate(int_test_ds)\n"
   ]
  }
 ],
 "metadata": {
  "kernelspec": {
   "display_name": "Python 3",
   "language": "python",
   "name": "python3"
  },
  "language_info": {
   "codemirror_mode": {
    "name": "ipython",
    "version": 3
   },
   "file_extension": ".py",
   "mimetype": "text/x-python",
   "name": "python",
   "nbconvert_exporter": "python",
   "pygments_lexer": "ipython3",
   "version": "3.8.5"
  }
 },
 "nbformat": 4,
 "nbformat_minor": 5
}
